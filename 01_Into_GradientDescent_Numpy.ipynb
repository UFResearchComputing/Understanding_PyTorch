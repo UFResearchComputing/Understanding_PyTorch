{
 "cells": [
  {
   "cell_type": "markdown",
   "metadata": {},
   "source": [
    "# UF Research Computing  \n",
    "\n",
    "![UF Research Computing Logo](images/ufrc_logo.png)\n",
    "\n",
    "\n",
    "This tutorial is adapted from: [Understanding PyTorch with an example: a step-by-step tutorial](https://towardsdatascience.com/understanding-pytorch-with-an-example-a-step-by-step-tutorial-81fc5f8c4e8e) by Daniel Godoy.\n",
    "\n",
    "This tutorial was adapted for UF Resarch Computing by Matt Gitzendanner.\n",
    "\n",
    "## Introduction\n",
    "\n",
    "**PyTorch** is one of the most widely used and fastest growing Deep Learning framworks. It is *pythonic*, meaning that it will feel familar to Python developers.\n",
    "\n",
    "I came across Daniel's post while looking for good tutorials and very much like the approach he takes in starting with a **simple problem**, a **linear regression**, fleshing that out with NumPy code and then walking through, step-by-step the parts that can be facilitated with Pytorch. As Daniel states, this provides a \"**structured**, **incremental** and **from first principles**\" approach to Deep Learning.\n",
    "\n",
    "I have converted Daniel's post to **Jupyeter notebooks** and broken the long post into several notebooks. I find Jupyter a good mehtod of playing with code. The notebooks can be run on [**HiPerGator**](https://jupyterhub.rc.ufl.edu/) (must be on UF network), [**Google Colaboratory**](https://colab.research.google.com/notebooks/), or elsewhere. While some steps will use a **GPU if present**, they should work in CPU. The example used is actually probably **slower to run on GPU**, but the idea is to give you the skills to move things in an out of GPUs when available.\n",
    "\n",
    "## A simple regression problem\n",
    "\n",
    "To focus on the goal of understanding how **PyTorch works**, Daniel Godoy sticks with a simple, familiar problem of linear regression with a single feature *x*.\n",
    "\n",
    ">   *y = a + bx + &epsilon;*"
   ]
  },
  {
   "cell_type": "markdown",
   "metadata": {},
   "source": [
    "## Data Generation\n",
    "\n",
    "We begin generating some random data. Let's create a vector of 100 points for our **feature *x*** and our **labels** ***a=1, b=2***, adding some Gaussian noise.\n",
    "\n",
    "Then we can split the made up, or *synthetic*, data into **train** and **test**, or **validation**, sets. "
   ]
  },
  {
   "cell_type": "code",
   "execution_count": 1,
   "metadata": {},
   "outputs": [],
   "source": [
    "import random\n",
    "import numpy as np\n",
    "\n",
    "# Data Generation\n",
    "np.random.seed(42) # Comment out for random results.\n",
    "x = np.random.rand(100, 1)\n",
    "\n",
    "# y = 1 + 2x + Gaussian noise\n",
    "y = 1 + 2 * x + .1 * np.random.randn(100, 1)\n",
    "\n",
    "\n",
    "# Shuffles the indices to split train and validation datasets\n",
    "idx = np.arange(100)\n",
    "np.random.shuffle(idx)\n",
    "\n",
    "# Uses first 80 random indices for train\n",
    "train_idx = idx[:80]\n",
    "\n",
    "# Uses the remaining indices for validation\n",
    "val_idx = idx[80:]\n",
    "\n",
    "# Generates train and validation sets\n",
    "x_train, y_train = x[train_idx], y[train_idx]\n",
    "x_val, y_val = x[val_idx], y[val_idx]\n",
    "\n",
    "# Note these data are used in the other notebooks, so I have placed a slightly\n",
    "# modified version of this cell into the file 'generate_data.py' to make\n",
    "# it easy to recreate the data as you move from one notebook to the next."
   ]
  },
  {
   "cell_type": "code",
   "execution_count": 2,
   "metadata": {},
   "outputs": [
    {
     "data": {
      "text/plain": [
       "(1.0, 3.0)"
      ]
     },
     "execution_count": 2,
     "metadata": {},
     "output_type": "execute_result"
    },
    {
     "data": {
      "image/png": "[encoded data removed]",
      "text/plain": [
       "<Figure size 432x288 with 2 Axes>"
      ]
     },
     "metadata": {
      "needs_background": "light"
     },
     "output_type": "display_data"
    }
   ],
   "source": [
    "%matplotlib inline\n",
    "import matplotlib.pyplot as plt\n",
    "\n",
    "# Plot the test and train datasets\n",
    "fig, ax = plt.subplots(1,2)\n",
    "\n",
    "ax[0].scatter(x_train,y_train, color='blue')\n",
    "ax[0].set_title('Generated Data - Train')\n",
    "ax[0].set_xlabel('x')\n",
    "ax[0].set_ylabel('y')\n",
    "ax[0].set_ylim(1,3) #May need to adjust if seed not set.\n",
    "\n",
    "ax[1].scatter(x_val,y_val, color='orange')\n",
    "ax[1].set_title('Generated Data - Validatoin')\n",
    "ax[1].set_xlabel('x')\n",
    "ax[1].set_ylim(1,3)"
   ]
  },
  {
   "cell_type": "markdown",
   "metadata": {},
   "source": [
    "Since we make the data, we **know** that a=1 and b=2, but let's see how close we can get to the true values using **gradient descent** and the **training data** (80 randomly selected data values)."
   ]
  },
  {
   "cell_type": "markdown",
   "metadata": {},
   "source": [
    "## Gradient Descent\n",
    "\n",
    "In this section, Daniel outlines the **four basic staps** for **gradient descent**:\n",
    "1. Compute the loss\n",
    "1. Compute the gradients\n",
    "1. Update the parameters (also known as weights)\n",
    "1. Repeate the process\n",
    "\n",
    "### Step 1: Compute the loss\n",
    "\n",
    "For a regrssion problem, the **loss** function used is the **Mean square error (MSE)**. MSE is the average of all squared differences between **labels** (*y*) and **predictions** (*a + bx*).\n",
    "\n",
    "Daniel Gody notes that:\n",
    "> It is worth mentioning that, if we use **all points** in the training set (N) to compute the loss, we are performing a **batch** gradient descent. If we were to use a **single point** at each time, it would be a **stochastic** gradient descent. Anything else (n) **in-between 1 and N** characterizes a **mini-batch** gradient descent."
   ]
  },
  {
   "cell_type": "markdown",
   "metadata": {},
   "source": [
    "The formula for MSE is:\n",
    "\n",
    "\\begin{equation*}\n",
    "MSE = \\frac{1}{N}\\sum_{i=1}^N ( y_i - \\hat{y_i} )^2\n",
    "\\end{equation*}\n",
    "\n",
    "Or, the mean of the squared differences between the observed ($y_i$) and predicted ($\\hat{y_i}$) values. And since we made the data, we also know that the predicted values can be substituted with $a-bx_i$:\n",
    "\n",
    "\\begin{equation*}\n",
    "MSE = \\frac{1}{N}\\sum_{i=1}^N ( y_i - a - bx_i )^2\n",
    "\\end{equation*}"
   ]
  },
  {
   "cell_type": "markdown",
   "metadata": {},
   "source": [
    "### Step 2: Compute the gratients\n",
    "\n",
    "A **gradient** is a **partial derivative** because it is computed with respect to (w.r.t.) a **single parameter**. We have two parameters, **a** and **b**, so we must compute two partial derivatives.\n",
    "\n",
    "A **derivative** tells you *how much* **a given quantity changes** when you *slightly vary* some **other quantity**. In our case, how much does our **MSE loss** change when we vary **each one of our two parameters**?\n",
    "\n",
    "The *right-most* part of the equations below is what you usually see in implementations of gradient descent for a simple linear regression. In the **intermediate steps**, Daniel Gody shows you **all elements** that pop-up from the applications of the [chain rule](https://en.wikipedia.org/wiki/Chain_rule), so you can know how the final expression came to be."
   ]
  },
  {
   "cell_type": "markdown",
   "metadata": {},
   "source": [
    "\\begin{equation*}\n",
    "\\frac{\\partial{MSE}}{\\partial{a}} =\n",
    "\\frac{\\partial{MSE}}{\\partial{\\hat{y_i}}} \n",
    "\\cdot \\frac{\\partial{\\hat{y_i}}} {\\partial{a}} =\n",
    "\\frac{1}{N}\\sum_{i=1}^N 2( y_i - a - bx_i ) \\cdot (-1) =\n",
    "-2\\frac{1}{N}\\sum_{i=1}^N(y_i - \\hat{y_i})\n",
    "\\end{equation*}\n",
    "\n",
    "\\begin{equation*}\n",
    "\\frac{\\partial{MSE}}{\\partial{b}} =\n",
    "\\frac{\\partial{MSE}}{\\partial{\\hat{y_i}}} \n",
    "\\cdot \\frac{\\partial{\\hat{y_i}}} {\\partial{ab}} =\n",
    "\\frac{1}{N}\\sum_{i=1}^N 2( y_i - a - bx_i ) \\cdot (-x_i) =\n",
    "-2\\frac{1}{N}\\sum_{i=1}^Nx_i(y_i - \\hat{y_i})\n",
    "\\end{equation*}"
   ]
  },
  {
   "cell_type": "markdown",
   "metadata": {},
   "source": [
    "### Step 3: Update the parameters\n",
    "\n",
    "In the final step, we **use the gradients to update** the parameters. Since we are trying to **minimize** our **losses**, we **reverse the sign** of the gradient for the update.\n",
    "\n",
    "There is still another parameter to consider: the **learning rate**, denoted by the *Greek letter **eta** (**&eta;**)*, which is the **multiplicative factor** that we need to apply to the gradient for the parameter update."
   ]
  },
  {
   "cell_type": "markdown",
   "metadata": {},
   "source": [
    "\\begin{equation*}\n",
    "a = a - \\eta\\frac{\\partial{MSE}}{\\partial{a}}\n",
    "\\end{equation*}\n",
    "\n",
    "\\begin{equation*}\n",
    "b = b-\\eta\\frac{\\partial{MSE}}{\\partial{b}}\n",
    "\\end{equation*}"
   ]
  },
  {
   "cell_type": "markdown",
   "metadata": {},
   "source": [
    "Choosing a learning rate is beyond the scope of this tutorial.\n",
    "\n",
    "### Step 4: Rinse and repeate!\n",
    "\n",
    "Now we use the **updated parameters** to go back to **step 1** and restart the process.\n",
    "\n",
    ">An **epoch is complete whenever every point has been already used for computing the loss**. For **batch** gradient descent, this is trivial, as it uses all points for computing the loss — **one epoch** is the same as **one update**. For **stochastic** gradient descent, **one epoch** means **N updates**, while for **mini-batch** (*of size n*), **one epoch** has **N/n updates**.\n",
    "\n",
    "Repeating this process over and over, for **many epochs**, is, in a nutshell, **training** a model."
   ]
  },
  {
   "cell_type": "markdown",
   "metadata": {},
   "source": [
    "## Linear Regression in Numpy\n",
    "\n",
    "Similar to the [Image Classification training module](https://github.com/UFResearchComputing/DL_pytorch_CNN) to understand what PyTorch is doing, we will first implement the linear regression model using gradient descent in Numpy only. Once that is understood, we can move on.\n",
    "\n",
    "For training a model, we have two steps:\n",
    "1. Random intialization of parameters, or **weights** (we have only two parameters, *a* and *b*).\n",
    "1. Intialization of **hyper-parameters** (in our case, only the *learning rate* and *number of epochs*)  \n",
    "\n",
    "In general, you always want to ensur randomization of the seed. The use of 42 for a seed in these examples ensures repeatability, but is *not* what you would want in real use.\n",
    "\n",
    "**For each epoch**, we conduct the 4 steps:\n",
    "1. Compute the model's predictions -- this is the **forward pass**\n",
    "1. Compute the loss, using *predictions*, *labels* and the **loss function** for the task at hand\n",
    "1. Compute the **gradients** for every parameter.\n",
    "1. Update the parameters using our **learning rate**.\n",
    "\n",
    "\n",
    "Keep in mind that, if you don’t use **batch gradient descent** (our example does),you’ll have to write an inner loop to perform the four training steps for either each individual point (stochastic) or n points (mini-batch). We’ll see a mini-batch example later down the line.\n",
    "\n",
    "### Initialize the model"
   ]
  },
  {
   "cell_type": "code",
   "execution_count": 3,
   "metadata": {},
   "outputs": [
    {
     "name": "stdout",
     "output_type": "stream",
     "text": [
      "[0.49671415] [-0.1382643]\n"
     ]
    }
   ],
   "source": [
    "# Initializes parameters \"a\" and \"b\" randomly\n",
    "np.random.seed(42)\n",
    "a = np.random.randn(1)\n",
    "b = np.random.randn(1)\n",
    "\n",
    "print(a, b)"
   ]
  },
  {
   "cell_type": "code",
   "execution_count": 4,
   "metadata": {},
   "outputs": [],
   "source": [
    "# Sets hyper-parameters \n",
    "# learning rate\n",
    "lr = 1e-1\n",
    "# Defines number of epochs\n",
    "n_epochs = 1000"
   ]
  },
  {
   "cell_type": "markdown",
   "metadata": {},
   "source": [
    "### For each epoch, loop through the 4 steps"
   ]
  },
  {
   "cell_type": "code",
   "execution_count": 5,
   "metadata": {},
   "outputs": [
    {
     "name": "stdout",
     "output_type": "stream",
     "text": [
      "[1.02354094] [1.96896411]\n"
     ]
    }
   ],
   "source": [
    "for epoch in range(n_epochs):\n",
    "    \n",
    "    # Step 1: Computes our model's predicted output\n",
    "    yhat = a + b * x_train\n",
    "    \n",
    "    # Step 2: Compue loss\n",
    "    # How wrong is our model? That's the error! \n",
    "    error = (y_train - yhat)\n",
    "    # It is a regression, so it computes mean squared error (MSE)\n",
    "    loss = (error ** 2).mean()\n",
    "    \n",
    "    # Step 3: Compute gradients\n",
    "    # Computes gradients for both \"a\" and \"b\" parameters\n",
    "    a_grad = -2 * error.mean()\n",
    "    b_grad = -2 * (x_train * error).mean()\n",
    "    \n",
    "    # Step 4: Update parameters\n",
    "    # Updates parameters using gradients and the learning rate\n",
    "    a = a - lr * a_grad\n",
    "    b = b - lr * b_grad\n",
    "    \n",
    "print(a, b)"
   ]
  },
  {
   "cell_type": "markdown",
   "metadata": {},
   "source": [
    "Just to make sure we haven’t done any mistakes in our code, we can use Scikit-Learn’s Linear Regression to fit the model and compare the coefficients."
   ]
  },
  {
   "cell_type": "code",
   "execution_count": 6,
   "metadata": {},
   "outputs": [
    {
     "name": "stdout",
     "output_type": "stream",
     "text": [
      "[1.02354075] [1.96896447]\n"
     ]
    }
   ],
   "source": [
    "# Sanity Check: do we get the same results as our gradient descent?\n",
    "from sklearn.linear_model import LinearRegression\n",
    "\n",
    "linr = LinearRegression()\n",
    "linr.fit(x_train, y_train)\n",
    "print(linr.intercept_, linr.coef_[0])"
   ]
  },
  {
   "cell_type": "markdown",
   "metadata": {},
   "source": [
    "They match up to 6 decimal places — we have a fully working implementation of linear regression using Numpy.\n",
    "\n",
    "Time to **TORCH** it :-)\n",
    "\n",
    "**[Continue to part 2 of the tutorial: 02_PyTorch_Tensors_autograd.ipynb](02_PyTorch_Tensors_autograd.ipynb)**"
   ]
  },
  {
   "cell_type": "code",
   "execution_count": null,
   "metadata": {},
   "outputs": [],
   "source": []
  }
 ],
 "metadata": {
  "kernelspec": {
   "display_name": "Tensorflow-2.1",
   "language": "python",
   "name": "tensorflow-2.1.0"
  },
  "language_info": {
   "codemirror_mode": {
    "name": "ipython",
    "version": 3
   },
   "file_extension": ".py",
   "mimetype": "text/x-python",
   "name": "python",
   "nbconvert_exporter": "python",
   "pygments_lexer": "ipython3",
   "version": "3.7.6"
  }
 },
 "nbformat": 4,
 "nbformat_minor": 4
}
